{
 "cells": [
  {
   "cell_type": "code",
   "execution_count": 1,
   "metadata": {
    "collapsed": true
   },
   "outputs": [],
   "source": [
    "import numpy as np\n",
    "import matplotlib.pyplot as plt\n",
    "import tensorflow as tf"
   ]
  },
  {
   "cell_type": "code",
   "execution_count": 2,
   "metadata": {
    "collapsed": true
   },
   "outputs": [],
   "source": [
    "DATA_FILE = '../data/birth_life_2010.txt'"
   ]
  },
  {
   "cell_type": "code",
   "execution_count": 3,
   "metadata": {
    "collapsed": true
   },
   "outputs": [],
   "source": [
    "batch_size = 10\n",
    "n_epoch = 100"
   ]
  },
  {
   "cell_type": "code",
   "execution_count": 4,
   "metadata": {
    "collapsed": true
   },
   "outputs": [],
   "source": [
    "def read_birth_life_data(filename):\n",
    "    \"\"\"\n",
    "    Read in birth_life_2010.txt and return:\n",
    "    data in the form of NumPy array\n",
    "    n_samples: number of samples\n",
    "    \"\"\"\n",
    "    text = open(filename, 'r').readlines()[1:]\n",
    "    data = [line[:-1].split('\\t') for line in text]\n",
    "    births = [float(line[1]) for line in data]\n",
    "    lifes = [float(line[2]) for line in data]\n",
    "    data = list(zip(births, lifes))\n",
    "    n_samples = len(data)\n",
    "    data = np.asarray(data, dtype=np.float32)\n",
    "    return data, n_samples"
   ]
  },
  {
   "cell_type": "code",
   "execution_count": 5,
   "metadata": {
    "collapsed": true
   },
   "outputs": [],
   "source": [
    "# Step 1: read in data from the .txt file\n",
    "data, n_samples = read_birth_life_data(DATA_FILE)"
   ]
  },
  {
   "cell_type": "code",
   "execution_count": 6,
   "metadata": {
    "collapsed": false
   },
   "outputs": [],
   "source": [
    "dataset = tf.data.Dataset.from_tensor_slices((data[:,0], data[:,1]))"
   ]
  },
  {
   "cell_type": "code",
   "execution_count": 7,
   "metadata": {
    "collapsed": true
   },
   "outputs": [],
   "source": [
    "dataset = dataset.shuffle(1000).repeat().batch(10)"
   ]
  },
  {
   "cell_type": "code",
   "execution_count": 8,
   "metadata": {
    "collapsed": true
   },
   "outputs": [],
   "source": [
    "X, Y = dataset.make_one_shot_iterator().get_next()"
   ]
  },
  {
   "cell_type": "code",
   "execution_count": 9,
   "metadata": {
    "collapsed": true
   },
   "outputs": [],
   "source": [
    "# Step 3: create weight and bias, initialized to 0\n",
    "w = tf.get_variable('weights', initializer=tf.constant(0.0))\n",
    "b = tf.get_variable('bias', initializer=tf.constant(0.0))"
   ]
  },
  {
   "cell_type": "code",
   "execution_count": 10,
   "metadata": {
    "collapsed": true
   },
   "outputs": [],
   "source": [
    "# Step 4: build model to predict Y\n",
    "hypothesis = w * X + b "
   ]
  },
  {
   "cell_type": "code",
   "execution_count": 11,
   "metadata": {
    "collapsed": false
   },
   "outputs": [],
   "source": [
    "# Step 5: use the squared error as the loss function\n",
    "# you can use either mean squared error or Huber loss\n",
    "loss = tf.reduce_mean(tf.square(Y - hypothesis), name='loss')"
   ]
  },
  {
   "cell_type": "code",
   "execution_count": 16,
   "metadata": {
    "collapsed": true
   },
   "outputs": [],
   "source": [
    "# Step 6: using gradient descent with learning rate of 0.001 to minimize loss\n",
    "optimizer = tf.train.GradientDescentOptimizer(learning_rate=0.01).minimize(loss)"
   ]
  },
  {
   "cell_type": "code",
   "execution_count": 17,
   "metadata": {
    "collapsed": false
   },
   "outputs": [
    {
     "name": "stdout",
     "output_type": "stream",
     "text": [
      "Epoch 18: 1777.4015599300988\n",
      "Epoch 18: 1118.1898482473273\n",
      "Epoch 18: 969.4795949835526\n",
      "Epoch 18: 834.2611662212171\n",
      "Epoch 18: 735.8605828536184\n",
      "Epoch 18: 642.1222084446957\n",
      "Epoch 18: 562.4701184724506\n",
      "Epoch 18: 492.84142584549755\n",
      "Epoch 18: 437.7646484375\n",
      "Epoch 18: 375.2195530941612\n",
      "Epoch 18: 328.438601042095\n",
      "Epoch 18: 287.6571149324116\n",
      "Epoch 18: 258.1275903802169\n",
      "Epoch 18: 225.31575253135279\n",
      "Epoch 18: 200.2528216713353\n",
      "Epoch 18: 177.09646285207648\n",
      "Epoch 18: 155.72651471589742\n",
      "Epoch 18: 142.5835454840409\n",
      "Epoch 18: 124.7789939077277\n",
      "Epoch 18: 114.31130298815276\n",
      "Epoch 18: 104.66172910991467\n",
      "Epoch 18: 92.94560382240697\n",
      "Epoch 18: 85.1118194178531\n",
      "Epoch 18: 77.62856373034026\n",
      "Epoch 18: 70.90003766511616\n",
      "Epoch 18: 66.91420434650622\n",
      "Epoch 18: 60.68930856805099\n",
      "Epoch 18: 57.008415724101816\n",
      "Epoch 18: 53.55832862854004\n",
      "Epoch 18: 51.48582448457417\n",
      "Epoch 18: 48.281628257349915\n",
      "Epoch 18: 45.57981902674625\n",
      "Epoch 18: 43.59733742161801\n",
      "Epoch 18: 41.354419356898255\n",
      "Epoch 18: 41.13707893773129\n",
      "Epoch 18: 38.66276851453279\n",
      "Epoch 18: 38.138982019926374\n",
      "Epoch 18: 37.263084712781406\n",
      "Epoch 18: 36.17413636257774\n",
      "Epoch 18: 35.65214377955387\n",
      "Epoch 18: 35.40268988358347\n",
      "Epoch 18: 34.33537212171053\n",
      "Epoch 18: 33.864176047475716\n",
      "Epoch 18: 33.77899822435881\n",
      "Epoch 18: 32.949696591025905\n",
      "Epoch 18: 32.645723694249206\n",
      "Epoch 18: 32.276964589169154\n",
      "Epoch 18: 31.50234940177516\n",
      "Epoch 18: 32.279175206234584\n",
      "Epoch 18: 31.808154407300446\n",
      "Epoch 18: 32.03868690289949\n",
      "Epoch 18: 31.665557560167816\n",
      "Epoch 18: 31.425678504140752\n",
      "Epoch 18: 31.378324910214072\n",
      "Epoch 18: 31.35250759124756\n",
      "Epoch 18: 31.117572081716435\n",
      "Epoch 18: 31.3421160045423\n",
      "Epoch 18: 30.77505161887721\n",
      "Epoch 18: 31.048383210834704\n",
      "Epoch 18: 31.268738545869525\n",
      "Epoch 18: 31.393860565988643\n",
      "Epoch 18: 30.65684333600496\n",
      "Epoch 18: 31.25138315401579\n",
      "Epoch 18: 31.15491852007414\n",
      "Epoch 18: 31.080807234111585\n",
      "Epoch 18: 31.37650996760318\n",
      "Epoch 18: 30.59937808388158\n",
      "Epoch 18: 30.221237182617188\n",
      "Epoch 18: 31.56611156463623\n",
      "Epoch 18: 30.988635916458932\n",
      "Epoch 18: 30.555985400551243\n",
      "Epoch 18: 30.716290373551217\n",
      "Epoch 18: 30.89275806828549\n",
      "Epoch 18: 30.652616852208187\n",
      "Epoch 18: 31.013274343390215\n",
      "Epoch 18: 30.95806686501754\n",
      "Epoch 18: 30.783038641277113\n",
      "Epoch 18: 30.584224901701276\n",
      "Epoch 18: 30.749381316335576\n",
      "Epoch 18: 30.827730479993317\n",
      "Epoch 18: 30.67691401431435\n",
      "Epoch 18: 30.8175311088562\n",
      "Epoch 18: 31.108931993183337\n",
      "Epoch 18: 30.831425265262002\n",
      "Epoch 18: 30.843038307993037\n",
      "Epoch 18: 30.832036369725277\n",
      "Epoch 18: 30.973580510992754\n",
      "Epoch 18: 31.37600507234272\n",
      "Epoch 18: 31.50185725563451\n",
      "Epoch 18: 30.851213756360504\n",
      "Epoch 18: 30.72953936928197\n",
      "Epoch 18: 30.708024577090615\n",
      "Epoch 18: 31.146095752716064\n",
      "Epoch 18: 30.589654571131657\n",
      "Epoch 18: 30.93614673614502\n",
      "Epoch 18: 30.436105251312256\n",
      "Epoch 18: 30.97945479342812\n",
      "Epoch 18: 30.44786834716797\n",
      "Epoch 18: 30.533497609590228\n",
      "Epoch 18: 30.962951233512477\n"
     ]
    }
   ],
   "source": [
    "writer = tf.summary.FileWriter('./graphs/linear_reg_dataset_1', tf.get_default_graph())\n",
    "with tf.Session() as sess:\n",
    "    # Step 7: initialize the necessary variables, in this case, w and b\n",
    "    sess.run(tf.global_variables_initializer())\n",
    "    \n",
    "    total_batch = int(n_samples/batch_size)\n",
    "    \n",
    "    # Step 8: train the model for 100 epochs\n",
    "    for i in range(n_epoch): \n",
    "        total_loss = 0\n",
    "        for i in range(total_batch):\n",
    "            # Session execute optimizer and fetch values of loss\n",
    "            #_, l = sess.run([optimizer, loss], feed_dict={X: x_data, Y:y_data}) \n",
    "            _, l = sess.run([optimizer, loss]) \n",
    "            total_loss += l\n",
    "        print('Epoch {0}: {1}'.format(i, total_loss/total_batch))\n",
    "\n",
    "    # close the writer when you're done using it\n",
    "    writer.close() \n",
    "    \n",
    "    # Step 9: output the values of w and b\n",
    "    w_out, b_out = sess.run([w, b]) "
   ]
  },
  {
   "cell_type": "code",
   "execution_count": 18,
   "metadata": {
    "collapsed": false
   },
   "outputs": [
    {
     "data": {
      "image/png": "[encoded data removed]",
      "text/plain": [
       "<matplotlib.figure.Figure at 0x2a56b6bc860>"
      ]
     },
     "metadata": {},
     "output_type": "display_data"
    }
   ],
   "source": [
    "# plot the results\n",
    "plt.plot(data[:,0], data[:,1], 'bo', label='Real data')\n",
    "plt.plot(data[:,0], data[:,0] * w_out + b_out, 'r', label='Predicted data')\n",
    "plt.legend()\n",
    "plt.show()"
   ]
  },
  {
   "cell_type": "code",
   "execution_count": null,
   "metadata": {
    "collapsed": true
   },
   "outputs": [],
   "source": []
  }
 ],
 "metadata": {
  "kernelspec": {
   "display_name": "Python 3",
   "language": "python",
   "name": "python3"
  },
  "language_info": {
   "codemirror_mode": {
    "name": "ipython",
    "version": 3
   },
   "file_extension": ".py",
   "mimetype": "text/x-python",
   "name": "python",
   "nbconvert_exporter": "python",
   "pygments_lexer": "ipython3",
   "version": "3.5.2"
  }
 },
 "nbformat": 4,
 "nbformat_minor": 2
}
