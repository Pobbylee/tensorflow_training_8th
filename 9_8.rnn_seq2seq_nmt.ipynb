{
 "cells": [
  {
   "cell_type": "markdown",
   "metadata": {},
   "source": [
    "### forked from https://github.com/golbin/TensorFlow-Tutorials"
   ]
  },
  {
   "cell_type": "code",
   "execution_count": 1,
   "metadata": {
    "collapsed": true
   },
   "outputs": [],
   "source": [
    "import tensorflow as tf\n",
    "import numpy as np"
   ]
  },
  {
   "cell_type": "code",
   "execution_count": 2,
   "metadata": {
    "collapsed": true
   },
   "outputs": [],
   "source": [
    "# S: 디코딩 입력의 시작을 나타내는 심볼\n",
    "# E: 디코딩 출력을 끝을 나타내는 심볼\n",
    "# P: 현재 배치 데이터의 time step 크기보다 작은 경우 빈 시퀀스를 채우는 심볼\n",
    "#    예) 현재 배치 데이터의 최대 크기가 4 인 경우\n",
    "#       word -> ['w', 'o', 'r', 'd']\n",
    "#       to   -> ['t', 'o', 'P', 'P']\n",
    "char_arr = [c for c in 'SEPabcdefghijklmnopqrstuvwxyz단어나무놀이소녀키스사랑']\n",
    "num_dic = {n: i for i, n in enumerate(char_arr)}\n",
    "dic_len = len(num_dic)"
   ]
  },
  {
   "cell_type": "code",
   "execution_count": 3,
   "metadata": {
    "collapsed": true
   },
   "outputs": [],
   "source": [
    "# 영어를 한글로 번역하기 위한 학습 데이터\n",
    "seq_data = [['word', '단어'], ['wood', '나무'],\n",
    "            ['game', '놀이'], ['girl', '소녀'],\n",
    "            ['kiss', '키스'], ['love', '사랑']]"
   ]
  },
  {
   "cell_type": "code",
   "execution_count": 4,
   "metadata": {
    "collapsed": false
   },
   "outputs": [],
   "source": [
    "def make_batch(seq_data):\n",
    "    input_batch = []\n",
    "    output_batch = []\n",
    "    target_batch = []\n",
    "\n",
    "    for seq in seq_data:\n",
    "        # 인코더 셀의 입력값. 입력단어의 글자들을 한글자씩 떼어 배열로 만든다.\n",
    "        input = [num_dic[n] for n in seq[0]]\n",
    "        # 디코더 셀의 입력값. 시작을 나타내는 S 심볼을 맨 앞에 붙여준다.\n",
    "        output = [num_dic[n] for n in ('S' + seq[1])]\n",
    "        # 학습을 위해 비교할 디코더 셀의 출력값. 끝나는 것을 알려주기 위해 마지막에 E 를 붙인다.\n",
    "        target = [num_dic[n] for n in (seq[1] + 'E')]\n",
    "\n",
    "        input_batch.append(np.eye(dic_len)[input])\n",
    "        output_batch.append(np.eye(dic_len)[output])\n",
    "        # 출력값만 one-hot 인코딩이 아님 (sparse_softmax_cross_entropy_with_logits 사용)\n",
    "        target_batch.append(target)        \n",
    "\n",
    "    return input_batch, output_batch, target_batch"
   ]
  },
  {
   "cell_type": "code",
   "execution_count": 5,
   "metadata": {
    "collapsed": true
   },
   "outputs": [],
   "source": [
    "learning_rate = 0.01\n",
    "n_hidden = 128\n",
    "total_epoch = 100\n",
    "# 입력과 출력의 형태가 one-hot 인코딩으로 같으므로 크기도 같다.\n",
    "n_class = n_input = dic_len"
   ]
  },
  {
   "cell_type": "code",
   "execution_count": 6,
   "metadata": {
    "collapsed": true
   },
   "outputs": [],
   "source": [
    "# [batch size, time steps, input size]\n",
    "enc_input = tf.placeholder(tf.float32, [None, None, n_input])\n",
    "dec_input = tf.placeholder(tf.float32, [None, None, n_input])\n",
    "# [batch size, time steps]\n",
    "targets = tf.placeholder(tf.int64, [None, None])"
   ]
  },
  {
   "cell_type": "code",
   "execution_count": 7,
   "metadata": {
    "collapsed": true
   },
   "outputs": [],
   "source": [
    "# 인코더 셀을 구성한다.\n",
    "with tf.variable_scope('encode'):\n",
    "    enc_cell = tf.nn.rnn_cell.BasicRNNCell(n_hidden)    \n",
    "\n",
    "    outputs, enc_states = tf.nn.dynamic_rnn(enc_cell, enc_input,\n",
    "                                            dtype=tf.float32)"
   ]
  },
  {
   "cell_type": "code",
   "execution_count": 8,
   "metadata": {
    "collapsed": true
   },
   "outputs": [],
   "source": [
    "# 디코더 셀을 구성한다.\n",
    "with tf.variable_scope('decode'):\n",
    "    dec_cell = tf.nn.rnn_cell.BasicRNNCell(n_hidden)    \n",
    "\n",
    "    # Seq2Seq 모델은 인코더 셀의 최종 상태값을\n",
    "    # 디코더 셀의 초기 상태값으로 넣어주는 것이 핵심.\n",
    "    outputs, dec_states = tf.nn.dynamic_rnn(dec_cell, dec_input,\n",
    "                                            initial_state=enc_states,\n",
    "                                            dtype=tf.float32)"
   ]
  },
  {
   "cell_type": "code",
   "execution_count": 9,
   "metadata": {
    "collapsed": true
   },
   "outputs": [],
   "source": [
    "model = tf.layers.dense(outputs, n_class, activation=None)"
   ]
  },
  {
   "cell_type": "code",
   "execution_count": 10,
   "metadata": {
    "collapsed": true
   },
   "outputs": [],
   "source": [
    "cost = tf.reduce_mean(\n",
    "            tf.nn.sparse_softmax_cross_entropy_with_logits(\n",
    "                logits=model, labels=targets))\n",
    "\n",
    "optimizer = tf.train.AdamOptimizer(learning_rate).minimize(cost)"
   ]
  },
  {
   "cell_type": "code",
   "execution_count": 11,
   "metadata": {
    "collapsed": false
   },
   "outputs": [
    {
     "name": "stdout",
     "output_type": "stream",
     "text": [
      "Epoch: 0001 cost = 3.765646\n",
      "Epoch: 0002 cost = 2.253144\n",
      "Epoch: 0003 cost = 1.188534\n",
      "Epoch: 0004 cost = 0.580958\n",
      "Epoch: 0005 cost = 0.286156\n",
      "Epoch: 0006 cost = 0.157506\n",
      "Epoch: 0007 cost = 0.119946\n",
      "Epoch: 0008 cost = 0.086030\n",
      "Epoch: 0009 cost = 0.050851\n",
      "Epoch: 0010 cost = 0.034444\n",
      "Epoch: 0011 cost = 0.022678\n",
      "Epoch: 0012 cost = 0.012747\n",
      "Epoch: 0013 cost = 0.008449\n",
      "Epoch: 0014 cost = 0.005276\n",
      "Epoch: 0015 cost = 0.003718\n",
      "Epoch: 0016 cost = 0.002884\n",
      "Epoch: 0017 cost = 0.002288\n",
      "Epoch: 0018 cost = 0.001831\n",
      "Epoch: 0019 cost = 0.001492\n",
      "Epoch: 0020 cost = 0.001254\n",
      "Epoch: 0021 cost = 0.001094\n",
      "Epoch: 0022 cost = 0.000985\n",
      "Epoch: 0023 cost = 0.000904\n",
      "Epoch: 0024 cost = 0.000831\n",
      "Epoch: 0025 cost = 0.000756\n",
      "Epoch: 0026 cost = 0.000677\n",
      "Epoch: 0027 cost = 0.000597\n",
      "Epoch: 0028 cost = 0.000521\n",
      "Epoch: 0029 cost = 0.000455\n",
      "Epoch: 0030 cost = 0.000400\n",
      "Epoch: 0031 cost = 0.000356\n",
      "Epoch: 0032 cost = 0.000320\n",
      "Epoch: 0033 cost = 0.000292\n",
      "Epoch: 0034 cost = 0.000269\n",
      "Epoch: 0035 cost = 0.000250\n",
      "Epoch: 0036 cost = 0.000234\n",
      "Epoch: 0037 cost = 0.000221\n",
      "Epoch: 0038 cost = 0.000209\n",
      "Epoch: 0039 cost = 0.000199\n",
      "Epoch: 0040 cost = 0.000190\n",
      "Epoch: 0041 cost = 0.000182\n",
      "Epoch: 0042 cost = 0.000174\n",
      "Epoch: 0043 cost = 0.000168\n",
      "Epoch: 0044 cost = 0.000162\n",
      "Epoch: 0045 cost = 0.000156\n",
      "Epoch: 0046 cost = 0.000151\n",
      "Epoch: 0047 cost = 0.000146\n",
      "Epoch: 0048 cost = 0.000142\n",
      "Epoch: 0049 cost = 0.000138\n",
      "Epoch: 0050 cost = 0.000134\n",
      "Epoch: 0051 cost = 0.000131\n",
      "Epoch: 0052 cost = 0.000128\n",
      "Epoch: 0053 cost = 0.000125\n",
      "Epoch: 0054 cost = 0.000122\n",
      "Epoch: 0055 cost = 0.000119\n",
      "Epoch: 0056 cost = 0.000116\n",
      "Epoch: 0057 cost = 0.000114\n",
      "Epoch: 0058 cost = 0.000112\n",
      "Epoch: 0059 cost = 0.000110\n",
      "Epoch: 0060 cost = 0.000108\n",
      "Epoch: 0061 cost = 0.000106\n",
      "Epoch: 0062 cost = 0.000104\n",
      "Epoch: 0063 cost = 0.000102\n",
      "Epoch: 0064 cost = 0.000101\n",
      "Epoch: 0065 cost = 0.000099\n",
      "Epoch: 0066 cost = 0.000098\n",
      "Epoch: 0067 cost = 0.000096\n",
      "Epoch: 0068 cost = 0.000095\n",
      "Epoch: 0069 cost = 0.000094\n",
      "Epoch: 0070 cost = 0.000092\n",
      "Epoch: 0071 cost = 0.000091\n",
      "Epoch: 0072 cost = 0.000090\n",
      "Epoch: 0073 cost = 0.000089\n",
      "Epoch: 0074 cost = 0.000088\n",
      "Epoch: 0075 cost = 0.000087\n",
      "Epoch: 0076 cost = 0.000086\n",
      "Epoch: 0077 cost = 0.000085\n",
      "Epoch: 0078 cost = 0.000084\n",
      "Epoch: 0079 cost = 0.000083\n",
      "Epoch: 0080 cost = 0.000082\n",
      "Epoch: 0081 cost = 0.000081\n",
      "Epoch: 0082 cost = 0.000081\n",
      "Epoch: 0083 cost = 0.000080\n",
      "Epoch: 0084 cost = 0.000079\n",
      "Epoch: 0085 cost = 0.000078\n",
      "Epoch: 0086 cost = 0.000078\n",
      "Epoch: 0087 cost = 0.000077\n",
      "Epoch: 0088 cost = 0.000076\n",
      "Epoch: 0089 cost = 0.000076\n",
      "Epoch: 0090 cost = 0.000075\n",
      "Epoch: 0091 cost = 0.000074\n",
      "Epoch: 0092 cost = 0.000074\n",
      "Epoch: 0093 cost = 0.000073\n",
      "Epoch: 0094 cost = 0.000073\n",
      "Epoch: 0095 cost = 0.000072\n",
      "Epoch: 0096 cost = 0.000071\n",
      "Epoch: 0097 cost = 0.000071\n",
      "Epoch: 0098 cost = 0.000070\n",
      "Epoch: 0099 cost = 0.000070\n",
      "Epoch: 0100 cost = 0.000069\n",
      "최적화 완료!\n"
     ]
    }
   ],
   "source": [
    "sess = tf.Session()\n",
    "sess.run(tf.global_variables_initializer())\n",
    "\n",
    "input_batch, output_batch, target_batch = make_batch(seq_data)\n",
    "\n",
    "for epoch in range(total_epoch):\n",
    "    _, loss = sess.run([optimizer, cost],\n",
    "                       feed_dict={enc_input: input_batch,\n",
    "                                  dec_input: output_batch,\n",
    "                                  targets: target_batch})\n",
    "\n",
    "    print('Epoch:', '%04d' % (epoch + 1),\n",
    "          'cost =', '{:.6f}'.format(loss))\n",
    "\n",
    "print('학습 완료!')"
   ]
  },
  {
   "cell_type": "code",
   "execution_count": 12,
   "metadata": {
    "collapsed": false
   },
   "outputs": [
    {
     "name": "stdout",
     "output_type": "stream",
     "text": [
      "\n",
      "=== 번역 테스트 ===\n",
      "word -> 단어\n",
      "wodr -> 나무\n",
      "love -> 사랑\n",
      "loev -> 사랑\n",
      "abcd -> 키이\n"
     ]
    }
   ],
   "source": [
    "def translate(word):\n",
    "    # 이 모델은 입력값과 출력값 데이터로 [영어단어, 한글단어] 사용하지만,\n",
    "    # 예측시에는 한글단어를 알지 못하므로, 디코더의 입출력값을 의미 없는 값인 P 값으로 채운다.\n",
    "    # ['word', 'PPPP']\n",
    "    seq_data = [word, 'P' * 4]\n",
    "\n",
    "    input_batch, output_batch, target_batch = make_batch([seq_data])\n",
    "\n",
    "    # 결과가 [batch size, time step, input] 으로 나오기 때문에,\n",
    "    # 2번째 차원인 input 차원을 argmax 로 취해 가장 확률이 높은 글자를 예측 값으로 만든다.\n",
    "    prediction = tf.argmax(model, 2)\n",
    "\n",
    "    result = sess.run(prediction,\n",
    "                      feed_dict={enc_input: input_batch,\n",
    "                                 dec_input: output_batch,\n",
    "                                 targets: target_batch})\n",
    "\n",
    "    # 결과 값인 숫자의 인덱스에 해당하는 글자를 가져와 글자 배열을 만든다.\n",
    "    decoded = [char_arr[i] for i in result[0]]\n",
    "    \n",
    "    #print (decoded)\n",
    "\n",
    "    # 출력의 끝을 의미하는 'E' 이후의 글자들을 제거하고 문자열로 만든다.\n",
    "    end = decoded.index('E')\n",
    "    translated = ''.join(decoded[:end])\n",
    "\n",
    "    return translated\n",
    "\n",
    "\n",
    "print('\\n=== 번역 테스트 ===')\n",
    "\n",
    "print('word ->', translate('word'))\n",
    "print('wodr ->', translate('wodr'))\n",
    "print('love ->', translate('love'))\n",
    "print('loev ->', translate('loev'))\n",
    "print('abcd ->', translate('abcd'))"
   ]
  },
  {
   "cell_type": "code",
   "execution_count": null,
   "metadata": {
    "collapsed": true
   },
   "outputs": [],
   "source": []
  }
 ],
 "metadata": {
  "kernelspec": {
   "display_name": "Python 3",
   "language": "python",
   "name": "python3"
  },
  "language_info": {
   "codemirror_mode": {
    "name": "ipython",
    "version": 3
   },
   "file_extension": ".py",
   "mimetype": "text/x-python",
   "name": "python",
   "nbconvert_exporter": "python",
   "pygments_lexer": "ipython3",
   "version": "3.5.2"
  }
 },
 "nbformat": 4,
 "nbformat_minor": 2
}
