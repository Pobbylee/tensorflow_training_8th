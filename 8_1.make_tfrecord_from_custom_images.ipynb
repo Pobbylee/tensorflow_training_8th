{
 "cells": [
  {
   "cell_type": "code",
   "execution_count": 1,
   "metadata": {
    "collapsed": true
   },
   "outputs": [],
   "source": [
    "import os\n",
    "import numpy as np\n",
    "import tensorflow as tf\n",
    "import matplotlib.pyplot as plt\n",
    "from PIL import Image"
   ]
  },
  {
   "cell_type": "code",
   "execution_count": 2,
   "metadata": {
    "collapsed": false
   },
   "outputs": [],
   "source": [
    "img_width = 64\n",
    "img_height = 64"
   ]
  },
  {
   "cell_type": "code",
   "execution_count": 3,
   "metadata": {
    "collapsed": true
   },
   "outputs": [],
   "source": [
    "tfrecord_train = 'train.tfrecord'\n",
    "tfrecord_test = 'test.tfrecord'\n",
    "tfrecord_dir = 'tfrecords'\n",
    "\n",
    "if not os.path.exists(tfrecord_dir):\n",
    "    os.makedirs(tfrecord_dir)"
   ]
  },
  {
   "cell_type": "code",
   "execution_count": 4,
   "metadata": {
    "collapsed": false
   },
   "outputs": [
    {
     "name": "stdout",
     "output_type": "stream",
     "text": [
      "20 categories in c:\\Work\\tensorflow_training_8th-master\\..\\data\\korean_food\n",
      "['bibimbap', 'bossam', 'bulgogi', 'daegaejjim', 'dakbokkeumtang', 'doenjang_chigae', 'galbijjim', 'galchijorim', 'ganjang_gejang', 'gimbob', 'gyoza', 'jjajangmyeon', 'kimchi', 'nangmyeon', 'ojingeo_bokkeum', 'ramen', 'samgupsal', 'samgyetang', 'soondae', 'soondubu_jjigae']\n"
     ]
    }
   ],
   "source": [
    "cur_dir = os.getcwd()\n",
    "image_dir = os.path.join(cur_dir, '..', 'data', 'korean_food')\n",
    "\n",
    "valid_exts = ['.jpg', '.png']\n",
    "print ('{} categories in {}'.format(len(os.listdir(image_dir)), image_dir))\n",
    "\n",
    "categories = sorted(os.listdir(image_dir))\n",
    "num_categ = len(categories)\n",
    "print (categories)"
   ]
  },
  {
   "cell_type": "code",
   "execution_count": 5,
   "metadata": {
    "collapsed": false,
    "scrolled": false
   },
   "outputs": [
    {
     "name": "stdout",
     "output_type": "stream",
     "text": [
      "904 bibimbap images are found\n",
      "605 bossam images are found\n",
      "688 bulgogi images are found\n",
      "622 daegaejjim images are found\n",
      "631 dakbokkeumtang images are found\n",
      "629 doenjang_chigae images are found\n",
      "782 galbijjim images are found\n",
      "698 galchijorim images are found\n",
      "687 ganjang_gejang images are found\n",
      "753 gimbob images are found\n",
      "899 gyoza images are found\n",
      "599 jjajangmyeon images are found\n",
      "875 kimchi images are found\n",
      "639 nangmyeon images are found\n",
      "721 ojingeo_bokkeum images are found\n",
      "911 ramen images are found\n",
      "670 samgupsal images are found\n",
      "660 samgyetang images are found\n",
      "670 soondae images are found\n",
      "614 soondubu_jjigae images are found\n"
     ]
    }
   ],
   "source": [
    "imgnames = []\n",
    "labels = []\n",
    "for label, category in enumerate(categories):\n",
    "    filelist = os.listdir(os.path.join(image_dir, category))\n",
    "    imglist = []\n",
    "    for f in filelist:\n",
    "        ext = os.path.splitext(f)[-1]\n",
    "        if ext.lower() not in valid_exts:\n",
    "            continue\n",
    "        img = Image.open(os.path.join(image_dir, category, f))\n",
    "        img = np.asarray(img)\n",
    "        #print(img.shape)\n",
    "        if img.shape[2] != 3:\n",
    "            #print(f)\n",
    "            continue\n",
    "        imglist.append(f)\n",
    "    imgnames += imglist\n",
    "    labels += [label]*len(imglist)\n",
    "    print('{} {} images are found'.format(len(imglist), category))"
   ]
  },
  {
   "cell_type": "code",
   "execution_count": 6,
   "metadata": {
    "collapsed": false
   },
   "outputs": [
    {
     "name": "stdout",
     "output_type": "stream",
     "text": [
      "11405 2852\n"
     ]
    }
   ],
   "source": [
    "numfiles = len(labels)\n",
    "idxrand = np.random.permutation(numfiles)\n",
    "idxtrain = idxrand[:int(0.8*numfiles)]\n",
    "idxtest = idxrand[int(0.8*numfiles):]\n",
    "print(len(idxtrain), len(idxtest))"
   ]
  },
  {
   "cell_type": "code",
   "execution_count": 7,
   "metadata": {
    "collapsed": true
   },
   "outputs": [],
   "source": [
    "train_tfr_path = os.path.join(cur_dir, tfrecord_dir, tfrecord_train)\n",
    "test_tfr_path = os.path.join(cur_dir, tfrecord_dir, tfrecord_test)\n",
    "\n",
    "writer_train = tf.python_io.TFRecordWriter(train_tfr_path)\n",
    "writer_test = tf.python_io.TFRecordWriter(test_tfr_path)"
   ]
  },
  {
   "cell_type": "code",
   "execution_count": 8,
   "metadata": {
    "collapsed": true
   },
   "outputs": [],
   "source": [
    "def _int64_feature(value):\n",
    "    return tf.train.Feature(int64_list=tf.train.Int64List(value=[value]))\n",
    "\n",
    "def _bytes_feature(value):\n",
    "    return tf.train.Feature(bytes_list=tf.train.BytesList(value=[value]))"
   ]
  },
  {
   "cell_type": "code",
   "execution_count": 9,
   "metadata": {
    "collapsed": false
   },
   "outputs": [],
   "source": [
    "for idx in idxtrain:\n",
    "    label = labels[idx]\n",
    "    img_path = os.path.join(image_dir, categories[label], imgnames[idx])\n",
    "    \n",
    "    image = Image.open(img_path)    \n",
    "    image = image.resize((img_height, img_width))\n",
    "    \n",
    "    image = np.asarray(image)    \n",
    "    image_str = image.tobytes()\n",
    "    \n",
    "    example = tf.train.Example(features=tf.train.Features(feature={\n",
    "        'image': _bytes_feature(image_str),\n",
    "        'label': _int64_feature(label)\n",
    "    }))\n",
    "    writer_train.write(example.SerializeToString())"
   ]
  },
  {
   "cell_type": "code",
   "execution_count": 10,
   "metadata": {
    "collapsed": false
   },
   "outputs": [],
   "source": [
    "for idx in idxtest:\n",
    "    label = labels[idx]\n",
    "    img_path = os.path.join(image_dir, categories[label], imgnames[idx])\n",
    "    image = Image.open(img_path)    \n",
    "    image = image.resize((img_height, img_width))\n",
    "    \n",
    "    image = np.asarray(image)    \n",
    "    image_str = image.tobytes()\n",
    "    \n",
    "    example = tf.train.Example(features=tf.train.Features(feature={\n",
    "        'image': _bytes_feature(image_str),\n",
    "        'label': _int64_feature(label)\n",
    "    }))\n",
    "    writer_test.write(example.SerializeToString())"
   ]
  },
  {
   "cell_type": "code",
   "execution_count": 11,
   "metadata": {
    "collapsed": true
   },
   "outputs": [],
   "source": [
    "writer_train.close()\n",
    "writer_test.close()"
   ]
  },
  {
   "cell_type": "code",
   "execution_count": null,
   "metadata": {
    "collapsed": true
   },
   "outputs": [],
   "source": []
  }
 ],
 "metadata": {
  "kernelspec": {
   "display_name": "Python 3",
   "language": "python",
   "name": "python3"
  },
  "language_info": {
   "codemirror_mode": {
    "name": "ipython",
    "version": 3
   },
   "file_extension": ".py",
   "mimetype": "text/x-python",
   "name": "python",
   "nbconvert_exporter": "python",
   "pygments_lexer": "ipython3",
   "version": "3.5.2"
  }
 },
 "nbformat": 4,
 "nbformat_minor": 2
}
